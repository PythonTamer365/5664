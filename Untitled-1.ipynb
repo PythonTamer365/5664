{
 "cells": [
  {
   "cell_type": "code",
   "execution_count": 1,
   "metadata": {},
   "outputs": [
    {
     "data": {
      "application/vnd.jupyter.widget-view+json": {
       "model_id": "6b1072f7da1a481e9231d21b3c6ad2fd",
       "version_major": 2,
       "version_minor": 0
      },
      "text/plain": [
       "VBox(children=(Checkbox(value=True, description='Seals Completed'), Checkbox(value=True, description='T2T Rece…"
      ]
     },
     "metadata": {},
     "output_type": "display_data"
    },
    {
     "data": {
      "application/vnd.jupyter.widget-view+json": {
       "model_id": "f3fc4de787d143bcb827b206a95be896",
       "version_major": 2,
       "version_minor": 0
      },
      "text/plain": [
       "Output()"
      ]
     },
     "metadata": {},
     "output_type": "display_data"
    }
   ],
   "source": [
    "import os\n",
    "import pandas as pd\n",
    "import matplotlib.pyplot as plt\n",
    "from datetime import datetime\n",
    "import ipywidgets as widgets\n",
    "\n",
    "# Specify the folder path and file name\n",
    "folder_path = r'C:\\Users\\AshlinMartin\\Python Practise\\Spreadsheet'\n",
    "file_name = 'Fire Stopping schedule 8F20 - MER-001-333325- REV 31 19 12 2023.xlsx'\n",
    "\n",
    "# Combine folder path and file name to get the full file path\n",
    "file_path = os.path.join(folder_path, file_name)\n",
    "\n",
    "# Function to plot the data\n",
    "def plot_data(show_seals, show_t2t, show_target):\n",
    "    if os.path.exists(file_path):\n",
    "        # Read data from the Excel file into a Pandas DataFrame\n",
    "        df = pd.read_excel(file_path, sheet_name='Schedule', usecols=[34, 57, 58], header=7)\n",
    "\n",
    "        # Rename columns for clarity\n",
    "        df.columns = ['T2T Received', 'All Required Phases Complete', 'Date all Phases Complete']\n",
    "\n",
    "        # Process 'All Required Phases Complete' data\n",
    "        df_seals = df[df['All Required Phases Complete'].str.lower() == 'yes'].copy()\n",
    "        df_seals['Date all Phases Complete'] = pd.to_datetime(df_seals['Date all Phases Complete'], errors='coerce')\n",
    "        df_seals.dropna(subset=['Date all Phases Complete'], inplace=True)\n",
    "        df_seals.sort_values(by='Date all Phases Complete', inplace=True)\n",
    "        df_seals['Cumulative Yes Count'] = range(1, len(df_seals) + 1)\n",
    "\n",
    "        # Process 'T2T Received' data\n",
    "        df_t2t = df[pd.to_datetime(df['T2T Received'], errors='coerce').notnull()].copy()\n",
    "        df_t2t['T2T Received'] = pd.to_datetime(df_t2t['T2T Received'])\n",
    "        df_t2t.sort_values(by='T2T Received', inplace=True)\n",
    "        df_t2t['Cumulative T2T Count'] = range(1, len(df_t2t) + 1)\n",
    "\n",
    "        # Plotting\n",
    "        fig, ax = plt.subplots(figsize=(10, 6))\n",
    "        \n",
    "        if show_seals:\n",
    "            ax.plot(df_seals['Date all Phases Complete'], df_seals['Cumulative Yes Count'], marker='o', label='Seals Completed')\n",
    "        \n",
    "        if show_t2t:\n",
    "            ax.plot(df_t2t['T2T Received'], df_t2t['Cumulative T2T Count'], marker='o', color='green', label='T2T Received')\n",
    "\n",
    "        if show_target:\n",
    "            latest_date = datetime(2025, 8, 1)\n",
    "            count_at_latest_date = (3279 / len(df_seals)) * df_seals['Cumulative Yes Count'].iloc[-1]\n",
    "            ax.plot([df_seals['Date all Phases Complete'].min(), latest_date], [0, count_at_latest_date], linestyle='--', color='red', label='Target Line')\n",
    "\n",
    "        ax.set_xlabel('Date')\n",
    "        ax.set_ylabel('Count')\n",
    "        ax.set_title(\"Firestopping Seals Completed Versus Target\")\n",
    "        plt.xticks(rotation=45)\n",
    "        ax.legend()\n",
    "        plt.show()\n",
    "\n",
    "    else:\n",
    "        print(f\"File '{file_name}' not found in the specified folder.\")\n",
    "\n",
    "# Interactive widgets\n",
    "cb_seals = widgets.Checkbox(value=True, description='Seals Completed')\n",
    "cb_t2t = widgets.Checkbox(value=True, description='T2T Received')\n",
    "cb_target = widgets.Checkbox(value=True, description='Target Line')\n",
    "\n",
    "# Display the widgets and output\n",
    "ui = widgets.VBox([cb_seals, cb_t2t, cb_target])\n",
    "out = widgets.interactive_output(plot_data, {'show_seals': cb_seals, 'show_t2t': cb_t2t, 'show_target': cb_target})\n",
    "\n",
    "display(ui, out)\n"
   ]
  }
 ],
 "metadata": {
  "kernelspec": {
   "display_name": "Python 3",
   "language": "python",
   "name": "python3"
  },
  "language_info": {
   "codemirror_mode": {
    "name": "ipython",
    "version": 3
   },
   "file_extension": ".py",
   "mimetype": "text/x-python",
   "name": "python",
   "nbconvert_exporter": "python",
   "pygments_lexer": "ipython3",
   "version": "3.12.0"
  }
 },
 "nbformat": 4,
 "nbformat_minor": 2
}
